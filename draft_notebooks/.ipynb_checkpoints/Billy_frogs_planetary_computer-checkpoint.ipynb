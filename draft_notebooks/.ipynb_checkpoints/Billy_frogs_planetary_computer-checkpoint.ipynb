{
 "cells": [
  {
   "cell_type": "markdown",
   "metadata": {},
   "source": [
    "# 2022 EY Challenge\n",
    "\n",
    "## Frog Data\n",
    "\n",
    "This notebook demonstrates how to extract frog location data from the Global Biodiversity Information Facility (GBIF). The GBIF occurrence dataset combines data from a wide array of sources, including specimen-related data from natural history museums, observations from citizen science networks, and automated environmental surveys. While these data are constantly changing at GBIF.org, periodic snapshots are taken and made available on the Planetary Computer. For our purposes, we are only interested in a narrow subset of the data relating to frogs.\n"
   ]
  },
  {
   "cell_type": "code",
   "execution_count": 69,
   "metadata": {},
   "outputs": [],
   "source": [
    "# Supress Warnings \n",
    "import warnings\n",
    "warnings.filterwarnings('ignore')\n",
    "\n",
    "# Import common GIS tools\n",
    "import numpy as np\n",
    "import xarray as xr\n",
    "import rasterio.features\n",
    "import xrspatial.multispectral as ms\n",
    "\n",
    "# Import Planetary Computer tools\n",
    "import stackstac\n",
    "import pystac\n",
    "import pystac_client\n",
    "import planetary_computer\n",
    "\n",
    "# Plotting tools\n",
    "import matplotlib.pyplot as plt\n",
    "from matplotlib.colors import ListedColormap\n",
    "\n",
    "# Data science tools\n",
    "import dask.dataframe as dd\n",
    "import pandas as pd\n",
    "\n",
    "# Table visualisation tools\n",
    "from IPython.display import display, HTML"
   ]
  },
  {
   "cell_type": "markdown",
   "metadata": {},
   "source": [
    "### Area definition\n",
    "\n",
    "For this demonstration, we will constrain our search to frogs in the Richmond area."
   ]
  },
  {
   "cell_type": "code",
   "execution_count": 70,
   "metadata": {},
   "outputs": [],
   "source": [
    "# Richmond\n",
    "min_lon, min_lat = (150.62, -33.69)  # Lower-left corner\n",
    "max_lon, max_lat = (150.83, -33.48)  # Upper-right corner\n",
    "bbox = (min_lon, min_lat, max_lon, max_lat)"
   ]
  },
  {
   "cell_type": "markdown",
   "metadata": {},
   "source": [
    "### Fetch GBIF dataset\n",
    "\n",
    "Now we query the Planetary Computer for the GBIF data. We do not need to specify a query region as the dataset  stores snapshots of a more dynamic collection of datasets, hence we only access one item. We will choose the latest snapshot."
   ]
  },
  {
   "cell_type": "code",
   "execution_count": 72,
   "metadata": {},
   "outputs": [
    {
     "name": "stdout",
     "output_type": "stream",
     "text": [
      "Number of GBIF scenes for given region: 6\n",
      "gbif-2021-10-01\n",
      "gbif-2021-09-01\n",
      "gbif-2021-08-01\n",
      "gbif-2021-07-01\n",
      "gbif-2021-06-01\n",
      "gbif-2021-04-13\n"
     ]
    }
   ],
   "source": [
    "stac = pystac_client.Client.open(\"https://planetarycomputer.microsoft.com/api/stac/v1\")\n",
    "\n",
    "search = stac.search(\n",
    "    bbox=bbox,\n",
    "    collections=[\"gbif\"],\n",
    "    # query={\"order\": {\"eq\": 'Anura'}},\n",
    "    \n",
    ")\n",
    "\n",
    "gbif_items = search.get_all_items()\n",
    "print('Number of GBIF scenes for given region:',len(gbif_items))\n",
    "for item in gbif_items:\n",
    "    print(item.id)\n",
    "    \n",
    "# Take latest\n",
    "gbif = gbif_items[0]"
   ]
  },
  {
   "cell_type": "markdown",
   "metadata": {},
   "source": [
    "It is good practice to sign the data items to avoid any authentication issues when querying the Planetary Computer. \n",
    "\n",
    "The GBIF data is very large, and is therefore spread out over 1050 partitions. We can set up a Dask dataframe to interface with the STAC API, allowing us to create a query workflow and load in the data a partition at a time. The following steps defines the Dask dataframe and instructs it on the queries to perform upon loading in a partition, namely to filter for frogs (`order == \"Anura\"`) and to only take those frogs in the Richmond bounding box."
   ]
  },
  {
   "cell_type": "code",
   "execution_count": 78,
   "metadata": {},
   "outputs": [
    {
     "data": {
      "text/html": [
       "<div><strong>Dask DataFrame Structure:</strong></div>\n",
       "<div>\n",
       "<style scoped>\n",
       "    .dataframe tbody tr th:only-of-type {\n",
       "        vertical-align: middle;\n",
       "    }\n",
       "\n",
       "    .dataframe tbody tr th {\n",
       "        vertical-align: top;\n",
       "    }\n",
       "\n",
       "    .dataframe thead th {\n",
       "        text-align: right;\n",
       "    }\n",
       "</style>\n",
       "<table border=\"1\" class=\"dataframe\">\n",
       "  <thead>\n",
       "    <tr style=\"text-align: right;\">\n",
       "      <th></th>\n",
       "      <th>eventdate</th>\n",
       "      <th>order</th>\n",
       "      <th>decimallatitude</th>\n",
       "      <th>decimallongitude</th>\n",
       "    </tr>\n",
       "    <tr>\n",
       "      <th>npartitions=1050</th>\n",
       "      <th></th>\n",
       "      <th></th>\n",
       "      <th></th>\n",
       "      <th></th>\n",
       "    </tr>\n",
       "  </thead>\n",
       "  <tbody>\n",
       "    <tr>\n",
       "      <th></th>\n",
       "      <td>object</td>\n",
       "      <td>object</td>\n",
       "      <td>float64</td>\n",
       "      <td>float64</td>\n",
       "    </tr>\n",
       "    <tr>\n",
       "      <th></th>\n",
       "      <td>...</td>\n",
       "      <td>...</td>\n",
       "      <td>...</td>\n",
       "      <td>...</td>\n",
       "    </tr>\n",
       "    <tr>\n",
       "      <th>...</th>\n",
       "      <td>...</td>\n",
       "      <td>...</td>\n",
       "      <td>...</td>\n",
       "      <td>...</td>\n",
       "    </tr>\n",
       "    <tr>\n",
       "      <th></th>\n",
       "      <td>...</td>\n",
       "      <td>...</td>\n",
       "      <td>...</td>\n",
       "      <td>...</td>\n",
       "    </tr>\n",
       "    <tr>\n",
       "      <th></th>\n",
       "      <td>...</td>\n",
       "      <td>...</td>\n",
       "      <td>...</td>\n",
       "      <td>...</td>\n",
       "    </tr>\n",
       "  </tbody>\n",
       "</table>\n",
       "</div>\n",
       "<div>Dask Name: getitem, 13650 tasks</div>"
      ],
      "text/plain": [
       "Dask DataFrame Structure:\n",
       "                 eventdate   order decimallatitude decimallongitude\n",
       "npartitions=1050                                                   \n",
       "                    object  object         float64          float64\n",
       "                       ...     ...             ...              ...\n",
       "...                    ...     ...             ...              ...\n",
       "                       ...     ...             ...              ...\n",
       "                       ...     ...             ...              ...\n",
       "Dask Name: getitem, 13650 tasks"
      ]
     },
     "execution_count": 78,
     "metadata": {},
     "output_type": "execute_result"
    }
   ],
   "source": [
    "# Take most recent. Sign it too.\n",
    "gbif = planetary_computer.sign(gbif_items[0])\n",
    "gbif_data_asset = gbif.assets['data']\n",
    "\n",
    "\n",
    "df = (\n",
    "    dd.read_parquet(\n",
    "        gbif_data_asset.href,\n",
    "        storage_options=gbif_data_asset.extra_fields[\"table:storage_options\"],\n",
    "        dataset={\"require_extension\": None},\n",
    "    )\n",
    "    [['eventdate', 'order', 'decimallatitude', 'decimallongitude']]\n",
    "    .query(\"order == 'Anura'\")\n",
    ")\n",
    "# Filter for the bounding box\n",
    "df = df[\n",
    "    (df.decimallatitude < max_lat) & \n",
    "    (df.decimallatitude > min_lat) &\n",
    "    (df.decimallongitude < max_lon) & \n",
    "    (df.decimallongitude > min_lon)\n",
    "]\n",
    "df"
   ]
  },
  {
   "cell_type": "code",
   "execution_count": 67,
   "metadata": {},
   "outputs": [],
   "source": [
    "# Function that repeats the above cell\n",
    "# Solves an authentication issue that happens when the extraction is long\n",
    "def resign_planetary_computer():\n",
    "    global gbif_items\n",
    "    # Take most recent. Sign it too.\n",
    "    gbif = planetary_computer.sign(gbif_items[0])\n",
    "    gbif_data_asset = gbif.assets['data']\n",
    "\n",
    "\n",
    "    df = (\n",
    "        dd.read_parquet(\n",
    "            gbif_data_asset.href,\n",
    "            storage_options=gbif_data_asset.extra_fields[\"table:storage_options\"],\n",
    "            dataset={\"require_extension\": None},\n",
    "        )\n",
    "        [['eventdate', 'order', 'decimallatitude', 'decimallongitude']]\n",
    "        .query(\"order == 'Anura'\")\n",
    "    )\n",
    "    # Filter for the bounding box\n",
    "    df = df[\n",
    "        (df.decimallatitude < max_lat) & \n",
    "        (df.decimallatitude > min_lat) &\n",
    "        (df.decimallongitude < max_lon) & \n",
    "        (df.decimallongitude > min_lon)\n",
    "    ]\n",
    "    return df"
   ]
  },
  {
   "cell_type": "markdown",
   "metadata": {},
   "source": [
    "### Extract data\n",
    "\n",
    "Finally, we are able to extract the data one partition at a time. To save time, we only extract about 10% of the partitions (randomly with probability 0.1). When the extraction is complete, we save the file to csv format."
   ]
  },
  {
   "cell_type": "code",
   "execution_count": null,
   "metadata": {},
   "outputs": [],
   "source": [
    "np.random.seed(420)\n",
    "\n",
    "frogs = pd.DataFrame()\n",
    "for i in range(df.npartitions):\n",
    "    if np.random.random() < 0.1:\n",
    "        print(f'Taking {i+1} of {df.npartitions}')\n",
    "        try:\n",
    "            frogs = frogs.append(df.get_partition(i).compute())\n",
    "        except:\n",
    "            df = resign_planetary_computer()\n",
    "            frogs = frogs.append(df.get_partition(i).compute())\n",
    "        print(f'Frogs found so far: {len(frogs)}')\n",
    "\n",
    "# Save to file\n",
    "(\n",
    "    frogs\n",
    "    .reset_index(drop=True)\n",
    "    .assign(\n",
    "        occurrenceStatus = 1\n",
    "    )\n",
    "    .rename(columns={'eventdate':'eventDate', 'decimallatitude':'decimalLatitude', 'decimallongitude':'decimalLongitude'})\n",
    "    .drop('order', 1)\n",
    "    .to_csv(\"richmond_frogs.csv\", index=None)\n",
    ")"
   ]
  },
  {
   "cell_type": "markdown",
   "metadata": {},
   "source": [
    "When the extraction is complete, we are left with a table containing the geolocations of frog sightings in Richmond. These data should be used as the ground truth of your algorithm."
   ]
  },
  {
   "cell_type": "code",
   "execution_count": 85,
   "metadata": {},
   "outputs": [
    {
     "data": {
      "text/html": [
       "<div>\n",
       "<style scoped>\n",
       "    .dataframe tbody tr th:only-of-type {\n",
       "        vertical-align: middle;\n",
       "    }\n",
       "\n",
       "    .dataframe tbody tr th {\n",
       "        vertical-align: top;\n",
       "    }\n",
       "\n",
       "    .dataframe thead th {\n",
       "        text-align: right;\n",
       "    }\n",
       "</style>\n",
       "<table border=\"1\" class=\"dataframe\">\n",
       "  <thead>\n",
       "    <tr style=\"text-align: right;\">\n",
       "      <th></th>\n",
       "      <th>eventDate</th>\n",
       "      <th>decimalLatitude</th>\n",
       "      <th>decimalLongitude</th>\n",
       "      <th>occurrenceStatus</th>\n",
       "    </tr>\n",
       "  </thead>\n",
       "  <tbody>\n",
       "    <tr>\n",
       "      <th>0</th>\n",
       "      <td>2019-09-20T00:00:00</td>\n",
       "      <td>-33.480633</td>\n",
       "      <td>150.699869</td>\n",
       "      <td>1</td>\n",
       "    </tr>\n",
       "    <tr>\n",
       "      <th>1</th>\n",
       "      <td>2008-01-29T00:00:00</td>\n",
       "      <td>-33.605402</td>\n",
       "      <td>150.661154</td>\n",
       "      <td>1</td>\n",
       "    </tr>\n",
       "    <tr>\n",
       "      <th>2</th>\n",
       "      <td>2011-09-18T00:00:00</td>\n",
       "      <td>-33.555530</td>\n",
       "      <td>150.723270</td>\n",
       "      <td>1</td>\n",
       "    </tr>\n",
       "    <tr>\n",
       "      <th>3</th>\n",
       "      <td>2019-09-20T00:00:00</td>\n",
       "      <td>-33.480633</td>\n",
       "      <td>150.699869</td>\n",
       "      <td>1</td>\n",
       "    </tr>\n",
       "    <tr>\n",
       "      <th>4</th>\n",
       "      <td>2018-11-12T00:00:00</td>\n",
       "      <td>-33.545000</td>\n",
       "      <td>150.809000</td>\n",
       "      <td>1</td>\n",
       "    </tr>\n",
       "    <tr>\n",
       "      <th>...</th>\n",
       "      <td>...</td>\n",
       "      <td>...</td>\n",
       "      <td>...</td>\n",
       "      <td>...</td>\n",
       "    </tr>\n",
       "    <tr>\n",
       "      <th>230</th>\n",
       "      <td>2015-04-27T00:00:00</td>\n",
       "      <td>-33.523342</td>\n",
       "      <td>150.771823</td>\n",
       "      <td>1</td>\n",
       "    </tr>\n",
       "    <tr>\n",
       "      <th>231</th>\n",
       "      <td>2010-08-14T00:00:00</td>\n",
       "      <td>-33.683198</td>\n",
       "      <td>150.796120</td>\n",
       "      <td>1</td>\n",
       "    </tr>\n",
       "    <tr>\n",
       "      <th>232</th>\n",
       "      <td>2019-09-21T00:00:00</td>\n",
       "      <td>-33.500885</td>\n",
       "      <td>150.689557</td>\n",
       "      <td>1</td>\n",
       "    </tr>\n",
       "    <tr>\n",
       "      <th>233</th>\n",
       "      <td>2010-12-21T00:00:00</td>\n",
       "      <td>-33.685636</td>\n",
       "      <td>150.678203</td>\n",
       "      <td>1</td>\n",
       "    </tr>\n",
       "    <tr>\n",
       "      <th>234</th>\n",
       "      <td>2012-02-17T00:00:00</td>\n",
       "      <td>-33.559702</td>\n",
       "      <td>150.787560</td>\n",
       "      <td>1</td>\n",
       "    </tr>\n",
       "  </tbody>\n",
       "</table>\n",
       "<p>235 rows × 4 columns</p>\n",
       "</div>"
      ],
      "text/plain": [
       "               eventDate  decimalLatitude  decimalLongitude  occurrenceStatus\n",
       "0    2019-09-20T00:00:00       -33.480633        150.699869                 1\n",
       "1    2008-01-29T00:00:00       -33.605402        150.661154                 1\n",
       "2    2011-09-18T00:00:00       -33.555530        150.723270                 1\n",
       "3    2019-09-20T00:00:00       -33.480633        150.699869                 1\n",
       "4    2018-11-12T00:00:00       -33.545000        150.809000                 1\n",
       "..                   ...              ...               ...               ...\n",
       "230  2015-04-27T00:00:00       -33.523342        150.771823                 1\n",
       "231  2010-08-14T00:00:00       -33.683198        150.796120                 1\n",
       "232  2019-09-21T00:00:00       -33.500885        150.689557                 1\n",
       "233  2010-12-21T00:00:00       -33.685636        150.678203                 1\n",
       "234  2012-02-17T00:00:00       -33.559702        150.787560                 1\n",
       "\n",
       "[235 rows x 4 columns]"
      ]
     },
     "execution_count": 85,
     "metadata": {},
     "output_type": "execute_result"
    }
   ],
   "source": [
    "pd.read_csv(\"richmond_frogs.csv\")"
   ]
  },
  {
   "cell_type": "code",
   "execution_count": null,
   "metadata": {},
   "outputs": [],
   "source": []
  }
 ],
 "metadata": {
  "kernelspec": {
   "display_name": "ey_ds",
   "language": "python",
   "name": "conda-env-ey_ds-py"
  },
  "language_info": {
   "codemirror_mode": {
    "name": "ipython",
    "version": 3
   },
   "file_extension": ".py",
   "mimetype": "text/x-python",
   "name": "python",
   "nbconvert_exporter": "python",
   "pygments_lexer": "ipython3",
   "version": "3.8.12"
  },
  "widgets": {
   "application/vnd.jupyter.widget-state+json": {
    "state": {
     "2ca0804b9f904dab815db80637a4f2d9": {
      "model_module": "@jupyter-widgets/base",
      "model_module_version": "1.2.0",
      "model_name": "LayoutModel",
      "state": {}
     },
     "e2f3ac516e3b4cf3a1ba1fc6aa0897ad": {
      "model_module": "@jupyter-widgets/controls",
      "model_module_version": "1.5.0",
      "model_name": "VBoxModel",
      "state": {
       "layout": "IPY_MODEL_2ca0804b9f904dab815db80637a4f2d9"
      }
     }
    },
    "version_major": 2,
    "version_minor": 0
   }
  }
 },
 "nbformat": 4,
 "nbformat_minor": 4
}
